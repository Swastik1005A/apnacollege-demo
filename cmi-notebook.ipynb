{
 "cells": [
  {
   "cell_type": "code",
   "execution_count": 1,
   "id": "403c3a6b",
   "metadata": {
    "_cell_guid": "b1076dfc-b9ad-4769-8c92-a6c4dae69d19",
    "_uuid": "8f2839f25d086af736a60e9eeb907d3b93b6e0e5",
    "execution": {
     "iopub.execute_input": "2025-07-11T14:02:31.955912Z",
     "iopub.status.busy": "2025-07-11T14:02:31.955505Z",
     "iopub.status.idle": "2025-07-11T14:02:34.115386Z",
     "shell.execute_reply": "2025-07-11T14:02:34.113198Z"
    },
    "papermill": {
     "duration": 2.167129,
     "end_time": "2025-07-11T14:02:34.117985",
     "exception": false,
     "start_time": "2025-07-11T14:02:31.950856",
     "status": "completed"
    },
    "tags": []
   },
   "outputs": [
    {
     "name": "stdout",
     "output_type": "stream",
     "text": [
      "/kaggle/input/cmi-detect-behavior-with-sensor-data/train_demographics.csv\n",
      "/kaggle/input/cmi-detect-behavior-with-sensor-data/test_demographics.csv\n",
      "/kaggle/input/cmi-detect-behavior-with-sensor-data/train.csv\n",
      "/kaggle/input/cmi-detect-behavior-with-sensor-data/test.csv\n",
      "/kaggle/input/cmi-detect-behavior-with-sensor-data/kaggle_evaluation/cmi_inference_server.py\n",
      "/kaggle/input/cmi-detect-behavior-with-sensor-data/kaggle_evaluation/cmi_gateway.py\n",
      "/kaggle/input/cmi-detect-behavior-with-sensor-data/kaggle_evaluation/__init__.py\n",
      "/kaggle/input/cmi-detect-behavior-with-sensor-data/kaggle_evaluation/core/templates.py\n",
      "/kaggle/input/cmi-detect-behavior-with-sensor-data/kaggle_evaluation/core/base_gateway.py\n",
      "/kaggle/input/cmi-detect-behavior-with-sensor-data/kaggle_evaluation/core/relay.py\n",
      "/kaggle/input/cmi-detect-behavior-with-sensor-data/kaggle_evaluation/core/kaggle_evaluation.proto\n",
      "/kaggle/input/cmi-detect-behavior-with-sensor-data/kaggle_evaluation/core/__init__.py\n",
      "/kaggle/input/cmi-detect-behavior-with-sensor-data/kaggle_evaluation/core/generated/kaggle_evaluation_pb2.py\n",
      "/kaggle/input/cmi-detect-behavior-with-sensor-data/kaggle_evaluation/core/generated/kaggle_evaluation_pb2_grpc.py\n",
      "/kaggle/input/cmi-detect-behavior-with-sensor-data/kaggle_evaluation/core/generated/__init__.py\n"
     ]
    }
   ],
   "source": [
    "# This Python 3 environment comes with many helpful analytics libraries installed\n",
    "# It is defined by the kaggle/python Docker image: https://github.com/kaggle/docker-python\n",
    "# For example, here's several helpful packages to load\n",
    "\n",
    "import numpy as np # linear algebra\n",
    "import pandas as pd # data processing, CSV file I/O (e.g. pd.read_csv)\n",
    "\n",
    "# Input data files are available in the read-only \"../input/\" directory\n",
    "# For example, running this (by clicking run or pressing Shift+Enter) will list all files under the input directory\n",
    "\n",
    "import os\n",
    "for dirname, _, filenames in os.walk('/kaggle/input'):\n",
    "    for filename in filenames:\n",
    "        print(os.path.join(dirname, filename))\n",
    "\n",
    "# You can write up to 20GB to the current directory (/kaggle/working/) that gets preserved as output when you create a version using \"Save & Run All\" \n",
    "# You can also write temporary files to /kaggle/temp/, but they won't be saved outside of the current session"
   ]
  },
  {
   "cell_type": "code",
   "execution_count": 2,
   "id": "04e06b05",
   "metadata": {
    "execution": {
     "iopub.execute_input": "2025-07-11T14:02:34.125197Z",
     "iopub.status.busy": "2025-07-11T14:02:34.124685Z",
     "iopub.status.idle": "2025-07-11T14:05:04.848368Z",
     "shell.execute_reply": "2025-07-11T14:05:04.847385Z"
    },
    "papermill": {
     "duration": 150.729929,
     "end_time": "2025-07-11T14:05:04.850121",
     "exception": false,
     "start_time": "2025-07-11T14:02:34.120192",
     "status": "completed"
    },
    "tags": []
   },
   "outputs": [
    {
     "name": "stderr",
     "output_type": "stream",
     "text": [
      "/tmp/ipykernel_13/1870016396.py:75: PerformanceWarning: DataFrame is highly fragmented.  This is usually the result of calling `frame.insert` many times, which has poor performance.  Consider joining all columns at once using pd.concat(axis=1) instead. To get a de-fragmented frame, use `newframe = frame.copy()`\n",
      "  seq_df[\"tof_mean\"] = seq_df[tof_cols].mean(axis=1)\n",
      "/tmp/ipykernel_13/1870016396.py:76: PerformanceWarning: DataFrame is highly fragmented.  This is usually the result of calling `frame.insert` many times, which has poor performance.  Consider joining all columns at once using pd.concat(axis=1) instead. To get a de-fragmented frame, use `newframe = frame.copy()`\n",
      "  seq_df[\"tof_std\"] = seq_df[tof_cols].std(axis=1)\n",
      "/tmp/ipykernel_13/1870016396.py:77: PerformanceWarning: DataFrame is highly fragmented.  This is usually the result of calling `frame.insert` many times, which has poor performance.  Consider joining all columns at once using pd.concat(axis=1) instead. To get a de-fragmented frame, use `newframe = frame.copy()`\n",
      "  seq_df[\"tof_min\"] = seq_df[tof_cols].min(axis=1)\n",
      "/tmp/ipykernel_13/1870016396.py:78: PerformanceWarning: DataFrame is highly fragmented.  This is usually the result of calling `frame.insert` many times, which has poor performance.  Consider joining all columns at once using pd.concat(axis=1) instead. To get a de-fragmented frame, use `newframe = frame.copy()`\n",
      "  seq_df[\"tof_max\"] = seq_df[tof_cols].max(axis=1)\n",
      "/tmp/ipykernel_13/1870016396.py:79: PerformanceWarning: DataFrame is highly fragmented.  This is usually the result of calling `frame.insert` many times, which has poor performance.  Consider joining all columns at once using pd.concat(axis=1) instead. To get a de-fragmented frame, use `newframe = frame.copy()`\n",
      "  seq_df[\"tof_median\"] = seq_df[tof_cols].median(axis=1)\n",
      "/tmp/ipykernel_13/1870016396.py:75: PerformanceWarning: DataFrame is highly fragmented.  This is usually the result of calling `frame.insert` many times, which has poor performance.  Consider joining all columns at once using pd.concat(axis=1) instead. To get a de-fragmented frame, use `newframe = frame.copy()`\n",
      "  seq_df[\"tof_mean\"] = seq_df[tof_cols].mean(axis=1)\n",
      "/tmp/ipykernel_13/1870016396.py:76: PerformanceWarning: DataFrame is highly fragmented.  This is usually the result of calling `frame.insert` many times, which has poor performance.  Consider joining all columns at once using pd.concat(axis=1) instead. To get a de-fragmented frame, use `newframe = frame.copy()`\n",
      "  seq_df[\"tof_std\"] = seq_df[tof_cols].std(axis=1)\n",
      "/tmp/ipykernel_13/1870016396.py:77: PerformanceWarning: DataFrame is highly fragmented.  This is usually the result of calling `frame.insert` many times, which has poor performance.  Consider joining all columns at once using pd.concat(axis=1) instead. To get a de-fragmented frame, use `newframe = frame.copy()`\n",
      "  seq_df[\"tof_min\"] = seq_df[tof_cols].min(axis=1)\n",
      "/tmp/ipykernel_13/1870016396.py:78: PerformanceWarning: DataFrame is highly fragmented.  This is usually the result of calling `frame.insert` many times, which has poor performance.  Consider joining all columns at once using pd.concat(axis=1) instead. To get a de-fragmented frame, use `newframe = frame.copy()`\n",
      "  seq_df[\"tof_max\"] = seq_df[tof_cols].max(axis=1)\n",
      "/tmp/ipykernel_13/1870016396.py:79: PerformanceWarning: DataFrame is highly fragmented.  This is usually the result of calling `frame.insert` many times, which has poor performance.  Consider joining all columns at once using pd.concat(axis=1) instead. To get a de-fragmented frame, use `newframe = frame.copy()`\n",
      "  seq_df[\"tof_median\"] = seq_df[tof_cols].median(axis=1)\n"
     ]
    }
   ],
   "source": [
    "import numpy as np\n",
    "import pandas as pd\n",
    "from xgboost import XGBClassifier\n",
    "from sklearn.preprocessing import LabelEncoder\n",
    "\n",
    "# 1. Load training data\n",
    "train = pd.read_csv('/kaggle/input/cmi-detect-behavior-with-sensor-data/train.csv')\n",
    "train_demo = pd.read_csv('/kaggle/input/cmi-detect-behavior-with-sensor-data/train_demographics.csv')\n",
    "merged = pd.merge(train, train_demo, on='subject', how='left')\n",
    "\n",
    "# 2. ToF Imputation\n",
    "tof_cols = [col for col in merged.columns if col.startswith('tof')]\n",
    "merged[tof_cols] = merged[tof_cols].replace(-1, np.nan)\n",
    "medians = np.nanmedian(merged[tof_cols].values, axis=0)\n",
    "merged[tof_cols] = np.where(np.isnan(merged[tof_cols]), medians, merged[tof_cols])\n",
    "\n",
    "# 3. ToF Aggregates\n",
    "def add_tof_aggregates(df, tof_cols):\n",
    "    return pd.concat([\n",
    "        df.reset_index(drop=True),\n",
    "        pd.DataFrame({\n",
    "            'tof_mean': df[tof_cols].mean(axis=1),\n",
    "            'tof_std': df[tof_cols].std(axis=1),\n",
    "            'tof_min': df[tof_cols].min(axis=1),\n",
    "            'tof_max': df[tof_cols].max(axis=1),\n",
    "            'tof_median': df[tof_cols].median(axis=1),\n",
    "        }, index=df.index)\n",
    "    ], axis=1)\n",
    "\n",
    "merged = add_tof_aggregates(merged, tof_cols)\n",
    "\n",
    "# 4. Feature setup\n",
    "features = [\n",
    "    'acc_x', 'acc_y', 'acc_z',\n",
    "    'rot_w', 'rot_x', 'rot_y', 'rot_z',\n",
    "    'thm_1', 'thm_2', 'thm_3', 'thm_4', 'thm_5',\n",
    "    'adult_child', 'age', 'sex', 'handedness',\n",
    "    'height_cm', 'shoulder_to_wrist_cm', 'elbow_to_wrist_cm',\n",
    "    'tof_mean', 'tof_std', 'tof_min', 'tof_max', 'tof_median'\n",
    "]\n",
    "\n",
    "X = merged[features]\n",
    "y = merged['gesture']\n",
    "\n",
    "# 5. Encode gesture\n",
    "gesture_le = LabelEncoder()\n",
    "y_encoded = gesture_le.fit_transform(y)\n",
    "\n",
    "# 6. Train model\n",
    "model = XGBClassifier(\n",
    "    eval_metric='mlogloss',\n",
    "    use_label_encoder=False,\n",
    "    n_jobs=-1,\n",
    "    verbosity=0,\n",
    "    random_state=42\n",
    ")\n",
    "model.fit(X, y_encoded)\n",
    "\n",
    "# 7. Predict on test set and write submission.parquet\n",
    "test = pd.read_csv('/kaggle/input/cmi-detect-behavior-with-sensor-data/test.csv')\n",
    "test_demo = pd.read_csv('/kaggle/input/cmi-detect-behavior-with-sensor-data/test_demographics.csv')\n",
    "\n",
    "results = []\n",
    "\n",
    "for seq_id, seq_df in test.groupby(\"sequence_id\"):\n",
    "    subject_id = seq_df[\"subject\"].iloc[0]\n",
    "    demo_row = test_demo[test_demo[\"subject\"] == subject_id].iloc[0]\n",
    "\n",
    "    seq_df = seq_df.copy()\n",
    "    for col in tof_cols:\n",
    "        seq_df[col] = seq_df[col].replace(-1, np.nan)\n",
    "    med_vals = pd.Series(medians, index=tof_cols)\n",
    "    seq_df[tof_cols] = seq_df[tof_cols].fillna(med_vals)\n",
    "\n",
    "    seq_df[\"tof_mean\"] = seq_df[tof_cols].mean(axis=1)\n",
    "    seq_df[\"tof_std\"] = seq_df[tof_cols].std(axis=1)\n",
    "    seq_df[\"tof_min\"] = seq_df[tof_cols].min(axis=1)\n",
    "    seq_df[\"tof_max\"] = seq_df[tof_cols].max(axis=1)\n",
    "    seq_df[\"tof_median\"] = seq_df[tof_cols].median(axis=1)\n",
    "\n",
    "    last_row = seq_df.iloc[-1][[\n",
    "        'acc_x', 'acc_y', 'acc_z',\n",
    "        'rot_w', 'rot_x', 'rot_y', 'rot_z',\n",
    "        'thm_1', 'thm_2', 'thm_3', 'thm_4', 'thm_5',\n",
    "        'tof_mean', 'tof_std', 'tof_min', 'tof_max', 'tof_median'\n",
    "    ]]\n",
    "\n",
    "    demo_feats = demo_row[['adult_child', 'age', 'sex', 'handedness', 'height_cm', 'shoulder_to_wrist_cm', 'elbow_to_wrist_cm']]\n",
    "    full_features = pd.concat([last_row, demo_feats]).values.reshape(1, -1)\n",
    "\n",
    "    pred_label = model.predict(full_features)[0]\n",
    "    pred_gesture = gesture_le.inverse_transform([pred_label])[0]\n",
    "\n",
    "    row_id = seq_df[\"row_id\"].iloc[-1]\n",
    "    results.append({\"row_id\": row_id, \"gesture\": pred_gesture})\n",
    "\n",
    "submission_df = pd.DataFrame(results)\n",
    "\n",
    "# ✅ Save to submission.parquet for Kaggle\n",
    "submission_df.to_parquet(\"submission.parquet\", index=False)\n"
   ]
  }
 ],
 "metadata": {
  "kaggle": {
   "accelerator": "none",
   "dataSources": [
    {
     "databundleVersionId": 12518947,
     "sourceId": 102335,
     "sourceType": "competition"
    }
   ],
   "dockerImageVersionId": 31089,
   "isGpuEnabled": false,
   "isInternetEnabled": false,
   "language": "python",
   "sourceType": "notebook"
  },
  "kernelspec": {
   "display_name": "Python 3",
   "language": "python",
   "name": "python3"
  },
  "language_info": {
   "codemirror_mode": {
    "name": "ipython",
    "version": 3
   },
   "file_extension": ".py",
   "mimetype": "text/x-python",
   "name": "python",
   "nbconvert_exporter": "python",
   "pygments_lexer": "ipython3",
   "version": "3.11.13"
  },
  "papermill": {
   "default_parameters": {},
   "duration": 159.069618,
   "end_time": "2025-07-11T14:05:05.775327",
   "environment_variables": {},
   "exception": null,
   "input_path": "__notebook__.ipynb",
   "output_path": "__notebook__.ipynb",
   "parameters": {},
   "start_time": "2025-07-11T14:02:26.705709",
   "version": "2.6.0"
  }
 },
 "nbformat": 4,
 "nbformat_minor": 5
}
